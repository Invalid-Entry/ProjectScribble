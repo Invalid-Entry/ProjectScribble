{
 "cells": [
  {
   "cell_type": "code",
   "execution_count": 165,
   "metadata": {},
   "outputs": [],
   "source": [
    "from svglib.svglib import svg2rlg\n",
    "import svglib\n",
    "from PIL import Image, ImageDraw\n",
    "import reportlab"
   ]
  },
  {
   "cell_type": "code",
   "execution_count": 246,
   "metadata": {},
   "outputs": [],
   "source": [
    "#drawing = svg2rlg(\"NH.svg\")\n",
    "drawing = svg2rlg(\"godzilla.svg\")"
   ]
  },
  {
   "cell_type": "code",
   "execution_count": 247,
   "metadata": {},
   "outputs": [
    {
     "name": "stdout",
     "output_type": "stream",
     "text": [
      "found group\n"
     ]
    }
   ],
   "source": [
    "inspect_list = []\n",
    "path_list = []\n",
    "\n",
    "for item in drawing.contents:\n",
    "    if type(item) == reportlab.graphics.shapes.Group:\n",
    "        print('found group')\n",
    "        inspect_list.append(item)\n",
    "    else:\n",
    "        print(item)"
   ]
  },
  {
   "cell_type": "code",
   "execution_count": 248,
   "metadata": {},
   "outputs": [
    {
     "name": "stdout",
     "output_type": "stream",
     "text": [
      "paths found: 1\n"
     ]
    }
   ],
   "source": [
    "while len(inspect_list) > 0:\n",
    "    group = inspect_list.pop()\n",
    "    for item in group.contents:\n",
    "        if type(item) == reportlab.graphics.shapes.Group:\n",
    "            #print('found group')\n",
    "            inspect_list.append(item)\n",
    "        elif type(item) == svglib.svglib.NoStrokePath:\n",
    "            #print('found nostroke')\n",
    "            pass\n",
    "        elif type(item) == reportlab.graphics.shapes.Path:\n",
    "            #print ('found path')\n",
    "            #print(dir(path))\n",
    "            path_list.append(item)\n",
    "        else:\n",
    "            print(item)\n",
    "print(\"paths found: %s\" % len(path_list) )"
   ]
  },
  {
   "cell_type": "code",
   "execution_count": 249,
   "metadata": {},
   "outputs": [
    {
     "name": "stdout",
     "output_type": "stream",
     "text": [
      "Ops: 940 Points: 4312\n",
      "close!\n",
      "close!\n",
      "close!\n",
      "close!\n",
      "close!\n",
      "close!\n",
      "close!\n",
      "close!\n",
      "close!\n",
      "close!\n",
      "close!\n",
      "close!\n",
      "close!\n",
      "close!\n",
      "close!\n",
      "close!\n",
      "close!\n",
      "close!\n",
      "close!\n",
      "close!\n",
      "close!\n",
      "close!\n",
      "close!\n",
      "close!\n",
      "close!\n",
      "close!\n",
      "close!\n",
      "close!\n",
      "close!\n",
      "close!\n",
      "close!\n",
      "close!\n",
      "close!\n",
      "close!\n",
      "close!\n",
      "close!\n",
      "close!\n",
      "close!\n",
      "close!\n",
      "close!\n",
      "close!\n",
      "close!\n",
      "close!\n",
      "close!\n",
      "close!\n",
      "close!\n",
      "close!\n",
      "close!\n",
      "close!\n",
      "close!\n",
      "close!\n",
      "close!\n",
      "close!\n",
      "close!\n",
      "close!\n",
      "close!\n",
      "close!\n",
      "close!\n",
      "close!\n",
      "close!\n",
      "close!\n",
      "close!\n",
      "close!\n",
      "close!\n",
      "close!\n",
      "close!\n",
      "close!\n",
      "close!\n",
      "close!\n",
      "close!\n",
      "close!\n",
      "close!\n",
      "close!\n",
      "close!\n",
      "close!\n",
      "close!\n",
      "close!\n",
      "close!\n",
      "close!\n",
      "close!\n",
      "close!\n",
      "close!\n",
      "close!\n",
      "close!\n",
      "close!\n",
      "close!\n",
      "close!\n",
      "close!\n",
      "close!\n",
      "close!\n",
      "close!\n",
      "close!\n",
      "close!\n",
      "close!\n",
      "close!\n",
      "close!\n",
      "close!\n",
      "close!\n",
      "close!\n",
      "close!\n",
      "close!\n",
      "close!\n",
      "close!\n",
      "close!\n",
      "Tpath count: 105\n"
     ]
    }
   ],
   "source": [
    "coord_paths = []\n",
    "\n",
    "_MOVETO, _LINETO, _CURVETO, _CLOSEPATH = list(range(4))\n",
    "_PATH_OP_ARG_COUNT = (2, 2, 6, 0)  # [moveTo, lineTo, curveTo, closePath]\n",
    "_PATH_OP_NAMES=['moveTo','lineTo','curveTo','closePath']\n",
    "\n",
    "max_x = 0\n",
    "max_y = 0\n",
    "\n",
    "for path in path_list:\n",
    "    \n",
    "    tpath = []\n",
    "    ptr = 0\n",
    "    \n",
    "    start = (path.points[0], path.points[1])\n",
    "    #try:\n",
    "    if True:\n",
    "        print(\"Ops: %s Points: %s\" % (len(path.operators), len(path.points)))\n",
    "        for operator in path.operators:\n",
    "            if operator == _MOVETO:\n",
    "                #if len(tpath) > 50:\n",
    "                coord_paths.append(tpath)\n",
    "                # reset start\n",
    "                start = (path.points[ptr], path.points[ptr+1])\n",
    "                \n",
    "                max_x = max(max_x, path.points[ptr])\n",
    "                max_y = max(max_y, path.points[ptr+1])\n",
    "                tpath = []\n",
    "\n",
    "                pop_count = _PATH_OP_ARG_COUNT[operator]\n",
    "                ptr += pop_count\n",
    "\n",
    "            elif operator == _LINETO:\n",
    "                \n",
    "                coord = (path.points[ptr], path.points[ptr+1])\n",
    "                tpath.append(coord)\n",
    "                \n",
    "                max_x = max(max_x, path.points[ptr])\n",
    "                max_y = max(max_y, path.points[ptr+1])\n",
    "\n",
    "                pop_count = _PATH_OP_ARG_COUNT[operator]\n",
    "                ptr += pop_count\n",
    "\n",
    "            elif operator == _CURVETO:\n",
    "\n",
    "                coord = (path.points[ptr], path.points[ptr+1])\n",
    "                tpath.append(coord)\n",
    "\n",
    "                pop_count = _PATH_OP_ARG_COUNT[operator]\n",
    "                ptr += pop_count\n",
    "\n",
    "\n",
    "            elif operator == _CLOSEPATH:\n",
    "                print('close!')\n",
    "                coord = start\n",
    "                tpath.append(coord)\n",
    "                \n",
    "    #except Exception as e:\n",
    "    #    print(e)\n",
    "    #    print(ptr)\n",
    "            \n",
    "    #print(tpath)\n",
    "    #if len(tpath)>15:\n",
    "    coord_paths.append(tpath)\n",
    "print(\"Tpath count: %s\" % len(coord_paths))"
   ]
  },
  {
   "cell_type": "code",
   "execution_count": 250,
   "metadata": {},
   "outputs": [
    {
     "name": "stdout",
     "output_type": "stream",
     "text": [
      "262.94538\n",
      "328.59237\n"
     ]
    }
   ],
   "source": [
    "print(max_x)\n",
    "print(max_y)"
   ]
  },
  {
   "cell_type": "code",
   "execution_count": 251,
   "metadata": {},
   "outputs": [
    {
     "data": {
      "image/png": "[encoded data removed]",
      "text/plain": [
       "<PIL.Image.Image image mode=RGB size=500x500 at 0x7FC2C7286370>"
      ]
     },
     "execution_count": 251,
     "metadata": {},
     "output_type": "execute_result"
    }
   ],
   "source": [
    "im = Image.new(mode=\"RGB\", size=(500,500))\n",
    "d = ImageDraw.Draw(im)\n",
    "last_point = None\n",
    "for tpath in coord_paths:\n",
    "    if len(tpath)>0:\n",
    "        if last_point:\n",
    "            d.line((last_point,tpath[0]), fill=(0,255,0))\n",
    "        last_point = tpath[0]\n",
    "        for point in tpath[1:]:\n",
    "            d.line((last_point,point), fill=(255,255,255))\n",
    "            last_point = point\n",
    "im"
   ]
  },
  {
   "cell_type": "code",
   "execution_count": 252,
   "metadata": {},
   "outputs": [],
   "source": [
    "import json\n",
    "\n",
    "with open(\"godzilla.json\", \"w\") as fp:\n",
    "    json.dump(coord_paths,fp)"
   ]
  },
  {
   "cell_type": "code",
   "execution_count": null,
   "metadata": {},
   "outputs": [],
   "source": [
    "new_paths = []\n",
    "\n",
    "while len(coord_paths) > 0:\n",
    "    # closest\n",
    "    closest = None\n",
    "    distance = 100000\n",
    "    \n",
    "    current_path = coord_path[0]\n",
    "    _first_en\n",
    "    \n",
    "    for paths in coord_paths[1:]:\n",
    "        dis = \n",
    "    "
   ]
  },
  {
   "cell_type": "code",
   "execution_count": 224,
   "metadata": {},
   "outputs": [],
   "source": [
    "def distance(a, b):\n",
    "    x = abs(a[0]-b[0])\n",
    "    y = abs(a[1]-b[1])\n",
    "    return sqrt(x**2 + y**2)"
   ]
  },
  {
   "cell_type": "code",
   "execution_count": null,
   "metadata": {},
   "outputs": [],
   "source": []
  }
 ],
 "metadata": {
  "kernelspec": {
   "display_name": "p38venv",
   "language": "python",
   "name": "p38venv"
  },
  "language_info": {
   "codemirror_mode": {
    "name": "ipython",
    "version": 3
   },
   "file_extension": ".py",
   "mimetype": "text/x-python",
   "name": "python",
   "nbconvert_exporter": "python",
   "pygments_lexer": "ipython3",
   "version": "3.8.4"
  }
 },
 "nbformat": 4,
 "nbformat_minor": 4
}
