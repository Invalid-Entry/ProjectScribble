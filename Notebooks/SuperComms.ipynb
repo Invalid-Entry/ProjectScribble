{
 "cells": [
  {
   "cell_type": "code",
   "execution_count": 68,
   "metadata": {},
   "outputs": [],
   "source": [
    "# super comms script\n",
    "import serial\n",
    "from time import sleep\n",
    "import math\n",
    "\n",
    "from tqdm import *\n",
    "import json"
   ]
  },
  {
   "cell_type": "code",
   "execution_count": 70,
   "metadata": {},
   "outputs": [],
   "source": [
    "def set_target(motor, location, ser, output=True):\n",
    "    if ser.is_open:\n",
    "        if motor =='A':\n",
    "            ser.write(b'A')\n",
    "        else:\n",
    "            ser.write(b'B')\n",
    "        \n",
    "        target_bytes = location.to_bytes(4, byteorder='big')\n",
    "        #print(target_bytes)\n",
    "        ser.write(target_bytes)\n",
    "        sleep(0.02)\n",
    "        while(ser.in_waiting > 0):\n",
    "            b = ser.read()\n",
    "            if output:\n",
    "                print(b.decode('ascii'), end='')\n",
    "    else:\n",
    "        raise Exception(\"Serial is not open!\")"
   ]
  },
  {
   "cell_type": "code",
   "execution_count": 71,
   "metadata": {},
   "outputs": [],
   "source": [
    "def get_debug(ser):\n",
    "    if ser.is_open:\n",
    "        ser.write(b'D')\n",
    "        sleep(0.02)\n",
    "        while(ser.in_waiting > 0):\n",
    "            b = ser.read()\n",
    "            print(b.decode('ascii'), end='')\n",
    "    \n",
    "        print(\"---\")\n",
    "    else:\n",
    "        raise Exception(\"Serial is not open!\")"
   ]
  },
  {
   "cell_type": "code",
   "execution_count": 72,
   "metadata": {},
   "outputs": [],
   "source": [
    "def gogogo(ser, wait=False, output=True):\n",
    "    if ser.is_open:\n",
    "        ser.write(b'G')\n",
    "        sleep(0.02)\n",
    "        \n",
    "        if output:\n",
    "            print(\"--- Making a move ---\")\n",
    "        \n",
    "        if wait:\n",
    "            end_found = False\n",
    "            while not end_found:\n",
    "                sleep(0.002)\n",
    "\n",
    "                while(ser.in_waiting > 0):\n",
    "                    b = ser.readline().decode('ascii')\n",
    "                    if output:\n",
    "                        print(b)\n",
    "                    if \"move-end\" in b:\n",
    "                        end_found = True\n",
    "                \n",
    "        else:\n",
    "            while(ser.in_waiting > 0):\n",
    "                b = ser.read()\n",
    "                print(b.decode('ascii'), end='')\n",
    "    \n",
    "            \n",
    "    else:\n",
    "        raise Exception(\"Serial is not open!\")"
   ]
  },
  {
   "cell_type": "code",
   "execution_count": 73,
   "metadata": {},
   "outputs": [],
   "source": [
    "def stop(ser):\n",
    "    if ser.is_open:\n",
    "        ser.write(b'S')\n",
    "        sleep(0.1)\n",
    "        while(ser.in_waiting > 0):\n",
    "            b = ser.read()\n",
    "            print(b.decode('ascii'), end='')\n",
    "    \n",
    "        print(\"---\")\n",
    "    else:\n",
    "        raise Exception(\"Serial is not open!\")"
   ]
  },
  {
   "cell_type": "code",
   "execution_count": 74,
   "metadata": {},
   "outputs": [],
   "source": [
    "def penup(ser):\n",
    "    if ser.is_open:\n",
    "        ser.write(b'C')\n",
    "        sleep(0.1)\n",
    "        while(ser.in_waiting > 0):\n",
    "            b = ser.read()\n",
    "            #print(b.decode('ascii'), end='')\n",
    "    \n",
    "        #print(\"---\")\n",
    "    else:\n",
    "        raise Exception(\"Serial is not open!\")\n",
    "\n",
    "def pendown(ser):\n",
    "    if ser.is_open:\n",
    "        ser.write(b'X')\n",
    "        sleep(0.1)\n",
    "        while(ser.in_waiting > 0):\n",
    "            b = ser.read()\n",
    "            #print(b.decode('ascii'), end='')\n",
    "    \n",
    "        #print(\"---\")\n",
    "    else:\n",
    "        raise Exception(\"Serial is not open!\")"
   ]
  },
  {
   "cell_type": "code",
   "execution_count": 75,
   "metadata": {},
   "outputs": [],
   "source": [
    "def reset(ser, output=True):\n",
    "    if ser.is_open:\n",
    "        ser.write(b'R')\n",
    "        sleep(0.5)\n",
    "        while(ser.in_waiting > 0):\n",
    "            b = ser.read()\n",
    "            if output:\n",
    "                print(b.decode('ascii'), end='')\n",
    "\n",
    "    else:\n",
    "        raise Exception(\"Serial is not open!\")"
   ]
  },
  {
   "cell_type": "code",
   "execution_count": 166,
   "metadata": {},
   "outputs": [
    {
     "name": "stdout",
     "output_type": "stream",
     "text": [
      "/dev/cu.usbserial-141240\n"
     ]
    }
   ],
   "source": [
    "ser = serial.Serial('/dev/cu.usbserial-141240', baudrate=115200)  # open serial port\n",
    "print(ser.name)         # check which port was really used"
   ]
  },
  {
   "cell_type": "code",
   "execution_count": 172,
   "metadata": {},
   "outputs": [
    {
     "name": "stdout",
     "output_type": "stream",
     "text": [
      "!-- I received: D\r\n",
      "!--- Debug ---\r\n",
      "!--- A length = 0\r\n",
      "!--- B length = 0\r\n",
      "!--- A target length = 5000\r\n",
      "!--- B target length = 0\r\n",
      "---\n"
     ]
    }
   ],
   "source": [
    "get_debug(ser)"
   ]
  },
  {
   "cell_type": "code",
   "execution_count": 208,
   "metadata": {},
   "outputs": [
    {
     "name": "stdout",
     "output_type": "stream",
     "text": [
      "!-- I received: A\n",
      "!--- A target length = 35155\n",
      "!-- I received: B\n",
      "!--- B target length = 8062\n",
      "--- Making a move ---\n",
      "!-- I received: G\n",
      "\n",
      "!--- Running ---\n",
      "\n",
      "!-- Reached move-end ---\n",
      "\n"
     ]
    }
   ],
   "source": [
    "\n",
    "# Start with thing at home position!\n",
    "#reset(ser)\n",
    "\n",
    "target_coord = (300,200)\n",
    "reset_point = (800,800)\n",
    "\n",
    "target_lengths = translate_xy_to_ab(target_coord)\n",
    "travel_lengths = (reset_point[0] - target_lengths[0], reset_point[1] - target_lengths[1])\n",
    "\n",
    "a_step_mm = 10000/125\n",
    "b_step_mm = 10000/125\n",
    "\n",
    "travel_steps = (int(travel_lengths[0] * a_step_mm), int(travel_lengths[1] * b_step_mm))\n",
    "\n",
    "set_target(\"A\", travel_steps[0], ser, output=True)\n",
    "set_target(\"B\", travel_steps[1], ser, output=True)\n",
    "gogogo(ser, wait=True)"
   ]
  },
  {
   "cell_type": "code",
   "execution_count": 209,
   "metadata": {},
   "outputs": [
    {
     "name": "stdout",
     "output_type": "stream",
     "text": [
      "!-- I received: A\n",
      "!--- A target length = 0\n",
      "!-- I received: B\n",
      "!--- B target length = 0\n",
      "--- Making a move ---\n",
      "!-- I received: G\n",
      "\n",
      "!--- Running ---\n",
      "\n",
      "!-- Reached move-end ---\n",
      "\n"
     ]
    }
   ],
   "source": [
    "set_target(\"A\", 0, ser, output=True)\n",
    "set_target(\"B\", 0, ser, output=True)\n",
    "\n",
    "#set_target(\"A\", 132, ser, output=True)\n",
    "#set_target(\"B\", 9121, ser, output=True)\n",
    "gogogo(ser, wait=True)\n",
    "\n"
   ]
  },
  {
   "cell_type": "code",
   "execution_count": 183,
   "metadata": {},
   "outputs": [
    {
     "name": "stdout",
     "output_type": "stream",
     "text": [
      "--- Making a move ---\n",
      "!--- B target length = 5000\n",
      "\n",
      "!-- I received: G\n",
      "\n",
      "!--- Running ---\n",
      "\n",
      "!-- Reached move-end ---\n",
      "\n"
     ]
    }
   ],
   "source": [
    "gogogo(ser, wait=True)"
   ]
  },
  {
   "cell_type": "code",
   "execution_count": null,
   "metadata": {},
   "outputs": [],
   "source": [
    "abpath = [\n",
    "    (5000,5000),\n",
    "    (10000,10000),\n",
    "    (0, 10000),\n",
    "    (1000, 0)\n",
    "]\n",
    "counter = 0\n",
    "for coord in abpath:\n",
    "    counter += 1\n",
    "    print(\"Step %s of %s (%s)\" % (counter, len(abpath), 100*counter/len(abpath)))\n",
    "    set_target('A', coord[0], ser, output=False)\n",
    "    set_target('B', coord[1], ser, output=False)\n",
    "    gogogo(ser, wait=True, output=False)"
   ]
  },
  {
   "cell_type": "code",
   "execution_count": null,
   "metadata": {},
   "outputs": [],
   "source": [
    "ser.close()"
   ]
  },
  {
   "cell_type": "code",
   "execution_count": 82,
   "metadata": {},
   "outputs": [
    {
     "name": "stdout",
     "output_type": "stream",
     "text": [
      "!--- B target length = 17723\r\n",
      "!-- I received: G\r\n",
      "!--- Running ---\r\n",
      "!-- Reached move-end ---\r\n",
      "!-- I received: R\r\n"
     ]
    }
   ],
   "source": [
    "reset(ser)"
   ]
  },
  {
   "cell_type": "code",
   "execution_count": 197,
   "metadata": {},
   "outputs": [],
   "source": [
    "def translate_xy_to_ab(coord):\n",
    "    x = coord[0]\n",
    "    y = coord[1]\n",
    "    a_len = math.sqrt(x**2 + y**2)\n",
    "    b_len = math.sqrt((MAX_WIDTH-x)**2 + y**2)\n",
    "    \n",
    "    return [a_len, b_len]\n",
    "\n",
    "def translate_ab_to_xy(lengths):\n",
    "    a = lengths[0]\n",
    "    b = lengths[1]\n",
    "    \n",
    "    # Cosine rule!\n",
    "    #cos(left) =  (a**2 + MAX_WIDTH**2 - b**2) / (2 * a * MAX_WIDTH)\n",
    "    \n",
    "    try:\n",
    "        left_angle = math.acos((a**2 + MAX_WIDTH**2 - b**2) / (2 * a * MAX_WIDTH))\n",
    "    except Exception as e:\n",
    "        # This specifically happens if the values just arn't a triangle!\n",
    "        # i.e. consider maxwidth = 100, left length = 10, right = 10... one of\n",
    "        # the wires must have broken!\n",
    "        print(\"Not a triangle!\")\n",
    "        print((a**2 + MAX_WIDTH**2 - b**2) / (2 * a * MAX_WIDTH))\n",
    "        raise e\n",
    "        \n",
    "    #print(left_angle) # in radians, remember.\n",
    "    \n",
    "    # sin(left) = opp / hyp\n",
    "    # cos(right) = adj / hyp\n",
    "    # hyp is 'a'\n",
    "    # Lack of precision here - chop to mm. Rounding 'down'\n",
    "    y = int(math.sin(left_angle) * a) \n",
    "    x = int(math.cos(left_angle) * a)\n",
    "    \n",
    "    return [x,y]"
   ]
  },
  {
   "cell_type": "code",
   "execution_count": 85,
   "metadata": {},
   "outputs": [
    {
     "name": "stdout",
     "output_type": "stream",
     "text": [
      "(61538.46153846154, 64000.0)\n",
      "Going -> (12760, 15141)\n",
      "Going -> (0, 0)\n"
     ]
    }
   ],
   "source": [
    "# Math time\n",
    "MAX_WIDTH = 970\n",
    "\n",
    "a_scale = 10000/130\n",
    "b_scale = 10000/125\n",
    "\n",
    "# 0,0 is furthest, then up is less (?)\n",
    "\n",
    "real_start_mm = (800,800)\n",
    "\n",
    "orig_length = (real_start_mm[0] * a_scale, real_start_mm[1] * b_scale)\n",
    "print(orig_length)\n",
    "xy_path = [\n",
    "    (500, 390),\n",
    "    #(500,500),\n",
    "    #(600,400),\n",
    "    'HOME'\n",
    "]\n",
    "\n",
    "ab_path = []\n",
    "\n",
    "for coord in xy_path:\n",
    "    if coord=='HOME':\n",
    "        movement = (0,0)\n",
    "    else:\n",
    "        short_ab_mm = translate_xy_to_ab(coord)\n",
    "        #print(short_ab_mm)\n",
    "        short_ab_steps = (short_ab_mm[0] * a_scale, short_ab_mm[1] * b_scale)\n",
    "        #print(short_ab_steps)\n",
    "        movement = (int(orig_length[0] - short_ab_steps[0]),int( orig_length[1] - short_ab_steps[1]))\n",
    "    print(\"Going -> %s\" % (movement,))\n",
    "    ab_path.append(movement)"
   ]
  },
  {
   "cell_type": "code",
   "execution_count": 159,
   "metadata": {},
   "outputs": [
    {
     "name": "stdout",
     "output_type": "stream",
     "text": [
      "/dev/cu.usbserial-141210\n"
     ]
    }
   ],
   "source": [
    "ser = serial.Serial('/dev/cu.usbserial-141210', baudrate=115200)  # open serial port\n",
    "print(ser.name)   \n"
   ]
  },
  {
   "cell_type": "code",
   "execution_count": 160,
   "metadata": {},
   "outputs": [
    {
     "name": "stdout",
     "output_type": "stream",
     "text": [
      "!-- I received: R\r\n"
     ]
    }
   ],
   "source": [
    "reset(ser)"
   ]
  },
  {
   "cell_type": "code",
   "execution_count": 161,
   "metadata": {},
   "outputs": [
    {
     "name": "stdout",
     "output_type": "stream",
     "text": [
      "!-- I received: D\r\n",
      "!--- Debug ---\r\n",
      "!--- A length = 0\r\n",
      "!--- B length = 0\r\n",
      "!--- A target length = 0\r\n",
      "!--- B target length = 0\r\n",
      "---\n"
     ]
    }
   ],
   "source": [
    "get_debug(ser)"
   ]
  },
  {
   "cell_type": "code",
   "execution_count": 86,
   "metadata": {},
   "outputs": [
    {
     "name": "stdout",
     "output_type": "stream",
     "text": [
      "Step 1 of 2 (50.0)\n",
      "Step 2 of 2 (100.0)\n"
     ]
    }
   ],
   "source": [
    "counter = 0\n",
    "for coord in ab_path:\n",
    "    counter += 1\n",
    "    print(\"Step %s of %s (%s)\" % (counter, len(ab_path), 100*counter/len(ab_path)))\n",
    "    set_target('A', coord[0], ser, output=False)\n",
    "    set_target('B', coord[1], ser, output=False)\n",
    "    gogogo(ser, wait=True, output=False)"
   ]
  },
  {
   "cell_type": "code",
   "execution_count": 62,
   "metadata": {},
   "outputs": [],
   "source": [
    "ser.close()"
   ]
  },
  {
   "cell_type": "code",
   "execution_count": 214,
   "metadata": {},
   "outputs": [
    {
     "name": "stderr",
     "output_type": "stream",
     "text": [
      "  0%|          | 0/2 [00:00<?, ?it/s]\n",
      "  0%|          | 0/500 [00:00<?, ?it/s]\u001b[A\n",
      "  0%|          | 0/2 [00:00<?, ?it/s]"
     ]
    },
    {
     "name": "stdout",
     "output_type": "stream",
     "text": [
      "!-- I received: B\r\n",
      "!--- B target length = -16843009\r\n",
      "!-- I received: R\r\n",
      "path 0 (0.0)\n",
      "(728.5071787306781, 988.7522138953227) -> (-32934, -16755)\n"
     ]
    },
    {
     "name": "stderr",
     "output_type": "stream",
     "text": [
      "\n"
     ]
    },
    {
     "ename": "Exception",
     "evalue": "out of bounds",
     "output_type": "error",
     "traceback": [
      "\u001b[0;31m---------------------------------------------------------------------------\u001b[0m",
      "\u001b[0;31mException\u001b[0m                                 Traceback (most recent call last)",
      "\u001b[0;32m<ipython-input-214-544d25a8f665>\u001b[0m in \u001b[0;36m<module>\u001b[0;34m\u001b[0m\n\u001b[1;32m     44\u001b[0m             \u001b[0;32mif\u001b[0m \u001b[0mmovement\u001b[0m\u001b[0;34m[\u001b[0m\u001b[0;36m0\u001b[0m\u001b[0;34m]\u001b[0m \u001b[0;34m<\u001b[0m \u001b[0;36m0\u001b[0m \u001b[0;32mor\u001b[0m \u001b[0mmovement\u001b[0m\u001b[0;34m[\u001b[0m\u001b[0;36m1\u001b[0m\u001b[0;34m]\u001b[0m \u001b[0;34m<\u001b[0m \u001b[0;36m0\u001b[0m\u001b[0;34m:\u001b[0m\u001b[0;34m\u001b[0m\u001b[0;34m\u001b[0m\u001b[0m\n\u001b[1;32m     45\u001b[0m                 \u001b[0mprint\u001b[0m\u001b[0;34m(\u001b[0m\u001b[0;34m\"%s -> %s\"\u001b[0m \u001b[0;34m%\u001b[0m \u001b[0;34m(\u001b[0m\u001b[0mcoord\u001b[0m\u001b[0;34m,\u001b[0m \u001b[0mmovement\u001b[0m\u001b[0;34m)\u001b[0m\u001b[0;34m)\u001b[0m\u001b[0;34m\u001b[0m\u001b[0;34m\u001b[0m\u001b[0m\n\u001b[0;32m---> 46\u001b[0;31m                 \u001b[0;32mraise\u001b[0m \u001b[0mException\u001b[0m\u001b[0;34m(\u001b[0m\u001b[0;34m\"out of bounds\"\u001b[0m\u001b[0;34m)\u001b[0m\u001b[0;34m\u001b[0m\u001b[0;34m\u001b[0m\u001b[0m\n\u001b[0m\u001b[1;32m     47\u001b[0m \u001b[0;34m\u001b[0m\u001b[0m\n\u001b[1;32m     48\u001b[0m         \u001b[0;31m#print(\"Going -> %s\" % (movement,))\u001b[0m\u001b[0;34m\u001b[0m\u001b[0;34m\u001b[0m\u001b[0;34m\u001b[0m\u001b[0m\n",
      "\u001b[0;31mException\u001b[0m: out of bounds"
     ]
    }
   ],
   "source": [
    "with open(\"spiro.json\") as fp:\n",
    "    paths = json.load(fp)\n",
    "\n",
    "MAX_WIDTH = 970\n",
    "offset_x = 300\n",
    "offset_y = 50\n",
    "\n",
    "scale_x = 1.5\n",
    "scale_y = 2\n",
    "path_counter = 0\n",
    "\n",
    "a_scale = 10000/130\n",
    "b_scale = 10000/130\n",
    "\n",
    "paths.append(('HOME',))\n",
    "\n",
    "# 0,0 is furthest, then up is less (?)\n",
    "\n",
    "real_start_mm = (800,800)\n",
    "\n",
    "orig_length = (real_start_mm[0] * a_scale, real_start_mm[1] * b_scale)\n",
    "reset(ser)\n",
    "penup(ser)\n",
    "\n",
    "for xy_path in tqdm(paths):\n",
    "    if len(xy_path) == 0:\n",
    "        continue\n",
    "    \n",
    "    print(\"path %s (%s)\" % (path_counter, 100*path_counter/len(paths)))\n",
    "    path_counter += 1\n",
    "    \n",
    "    ab_path = []\n",
    "\n",
    "    for coord in tqdm(xy_path):\n",
    "        if coord=='HOME':\n",
    "            movement = (0,0)\n",
    "        else:\n",
    "            coord = (offset_x + coord[0]*scale_x, offset_y + coord[1]*scale_y)\n",
    "            short_ab_mm = translate_xy_to_ab(coord)\n",
    "            #print(short_ab_mm)\n",
    "            short_ab_steps = (short_ab_mm[0] * a_scale, short_ab_mm[1] * b_scale)\n",
    "            #print(short_ab_steps)\n",
    "            movement = (int(orig_length[0] - short_ab_steps[0]),int( orig_length[1] - short_ab_steps[1]))\n",
    "            if movement[0] < 0 or movement[1] < 0:\n",
    "                print(\"%s -> %s\" % (coord, movement))\n",
    "                raise Exception(\"out of bounds\")\n",
    "                \n",
    "        #print(\"Going -> %s\" % (movement,))\n",
    "        ab_path.append(movement)\n",
    "        \n",
    "        \n",
    "    #input(\"> PENUP !\\r\\n\")\n",
    "    penup(ser)\n",
    "    set_target('A', ab_path[0][0], ser, output=False)\n",
    "    set_target('B', ab_path[0][1], ser, output=False)\n",
    "    gogogo(ser, wait=True, output=False)\n",
    "        \n",
    "    pendown(ser)\n",
    "    counter = 0\n",
    "    for coord in tqdm(ab_path[1:]):\n",
    "        counter += 1\n",
    "        #print(\"Step %s of %s (%s)\" % (counter, len(ab_path), 100*counter/len(ab_path)))\n",
    "        set_target('A', coord[0], ser, output=False)\n",
    "        set_target('B', coord[1], ser, output=False)\n",
    "        gogogo(ser, wait=True, output=False)\n",
    "    penup(ser)\n",
    "\n",
    "#print(len(ab_path))\n",
    "#print(int(offset_x + xy_path[0][0]*scale_x), int(offset_y + xy_path[0][1]*scale_y))"
   ]
  },
  {
   "cell_type": "code",
   "execution_count": 158,
   "metadata": {},
   "outputs": [
    {
     "name": "stdout",
     "output_type": "stream",
     "text": [
      "--- Making a move ---\n",
      "!--- B target length = 1000\r\n",
      "!-- I received: G\r\n",
      "!--- Running ---\r\n"
     ]
    }
   ],
   "source": [
    "penup(ser)\n",
    "set_target('A',1000, ser, output=False)\n",
    "set_target('B',1000, ser, output=False)\n",
    "gogogo(ser)"
   ]
  },
  {
   "cell_type": "code",
   "execution_count": 118,
   "metadata": {},
   "outputs": [],
   "source": [
    "ser.close()"
   ]
  },
  {
   "cell_type": "code",
   "execution_count": 155,
   "metadata": {},
   "outputs": [
    {
     "name": "stdout",
     "output_type": "stream",
     "text": [
      "!-- I received: R\r\n"
     ]
    }
   ],
   "source": [
    "reset(ser)"
   ]
  },
  {
   "cell_type": "code",
   "execution_count": 216,
   "metadata": {},
   "outputs": [],
   "source": [
    "def go_to_xy(target_coord,ser):\n",
    "    target_lengths = translate_xy_to_ab(target_coord)\n",
    "    travel_lengths = (reset_point[0] - target_lengths[0], reset_point[1] - target_lengths[1])\n",
    "\n",
    "    a_step_mm = 10000/125\n",
    "    b_step_mm = 10000/125\n",
    "\n",
    "    travel_steps = (int(travel_lengths[0] * a_step_mm), int(travel_lengths[1] * b_step_mm))\n",
    "\n",
    "    set_target(\"A\", travel_steps[0], ser, output=True)\n",
    "    set_target(\"B\", travel_steps[1], ser, output=True)\n",
    "    gogogo(ser, wait=True)"
   ]
  },
  {
   "cell_type": "code",
   "execution_count": 219,
   "metadata": {},
   "outputs": [
    {
     "name": "stdout",
     "output_type": "stream",
     "text": [
      "!-- I received: R\n",
      "!-- I received: A\n",
      "!--- A target length = 2942\n",
      "!-- I received: B\n",
      "!--- B target length = 23020\n",
      "--- Making a move ---\n",
      "!-- I received: G\n",
      "\n",
      "!--- Running ---\n",
      "\n",
      "!-- Reached move-end ---\n",
      "\n",
      "!-- I received: A\n",
      "!--- A target length = 24000\n",
      "!-- I received: B\n",
      "--- Making a move ---\n",
      "!--- B target length = 1574\n",
      "\n",
      "!-- I received: G\n",
      "\n",
      "!--- Running ---\n",
      "\n",
      "!-- Reached move-end ---\n",
      "\n",
      "!-- I received: A\n",
      "!--- A target length = 37167\n",
      "!-- I received: B\n",
      "!--- B target length = 9073\n",
      "--- Making a move ---\n",
      "!-- I received: G\n",
      "\n",
      "!--- Running ---\n",
      "\n",
      "!-- Reached move-end ---\n",
      "\n",
      "!-- I received: A\n",
      "!--- A target length = 10633\n",
      "!-- I received: B\n",
      "--- Making a move ---\n",
      "!--- B target length = 35727\n",
      "\n",
      "!-- I received: G\n",
      "\n",
      "!--- Running ---\n",
      "\n",
      "!-- Reached move-end ---\n",
      "\n",
      "!-- I received: A\n",
      "!--- A target length = 2942\n",
      "!-- I received: B\n",
      "!--- B target length = 23020\n",
      "--- Making a move ---\n",
      "!-- I received: G\n",
      "\n",
      "!--- Running ---\n",
      "\n",
      "!-- Reached move-end ---\n",
      "\n"
     ]
    }
   ],
   "source": [
    "reset(ser)\n",
    "path = [\n",
    "    (650, 400),\n",
    "    (300, 400),\n",
    "    (300, 150),\n",
    "    (650, 150),\n",
    "    (650, 400)\n",
    "]\n",
    "\n",
    "for point in path:\n",
    "    go_to_xy(point,ser)"
   ]
  },
  {
   "cell_type": "code",
   "execution_count": 217,
   "metadata": {},
   "outputs": [],
   "source": [
    "pendown(ser)\n"
   ]
  },
  {
   "cell_type": "code",
   "execution_count": null,
   "metadata": {},
   "outputs": [],
   "source": []
  }
 ],
 "metadata": {
  "kernelspec": {
   "display_name": "p38venv",
   "language": "python",
   "name": "p38venv"
  },
  "language_info": {
   "codemirror_mode": {
    "name": "ipython",
    "version": 3
   },
   "file_extension": ".py",
   "mimetype": "text/x-python",
   "name": "python",
   "nbconvert_exporter": "python",
   "pygments_lexer": "ipython3",
   "version": "3.8.4"
  }
 },
 "nbformat": 4,
 "nbformat_minor": 4
}
