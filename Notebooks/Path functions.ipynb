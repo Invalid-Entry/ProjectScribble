{
 "cells": [
  {
   "cell_type": "code",
   "execution_count": 160,
   "metadata": {},
   "outputs": [],
   "source": [
    "from PIL import Image, ImageDraw\n",
    "import random\n",
    "import math\n",
    "\n"
   ]
  },
  {
   "cell_type": "code",
   "execution_count": 153,
   "metadata": {},
   "outputs": [],
   "source": [
    "def render(coord_paths, size, penup=False):\n",
    "    im = Image.new(mode=\"RGB\", size=size)\n",
    "    d = ImageDraw.Draw(im)\n",
    "    ImageDraw.floodfill(im,(1,1), (255,255,255))\n",
    "    last_point = None\n",
    "    for tpath in coord_paths:\n",
    "        if penup and last_point:\n",
    "            d.line((last_point[0], last_point[1],tpath[0][0], tpath[0][1]), fill=(0,255,0))\n",
    "            \n",
    "            \n",
    "        if len(tpath)>0:\n",
    "            last_point = tpath[0]\n",
    "            for point in tpath[1:]:\n",
    "                try:\n",
    "                    d.line((last_point[0],last_point[1],point[0],point[1]), fill=(0,0,0))\n",
    "                    last_point = point\n",
    "                except Exception:\n",
    "                    print(\"%s -> %s\" % (last_point, point))\n",
    "    return im"
   ]
  },
  {
   "cell_type": "code",
   "execution_count": 151,
   "metadata": {},
   "outputs": [
    {
     "data": {
      "image/png": "[encoded data removed]",
      "text/plain": [
       "<PIL.Image.Image image mode=RGB size=500x500 at 0x7F9B885A5A90>"
      ]
     },
     "execution_count": 151,
     "metadata": {},
     "output_type": "execute_result"
    }
   ],
   "source": [
    "test_one = []\n",
    "\n",
    "for i in range(1,10):\n",
    "    tpath = []\n",
    "    for p in range(1,5):\n",
    "        point = (p*random.randint(20,100), random.randint(20,50)*i )\n",
    "        #print(point)\n",
    "        tpath.append(point)\n",
    "    test_one.append(tpath)\n",
    "\n",
    "render(test_one, (500,500), penup=True)"
   ]
  },
  {
   "cell_type": "code",
   "execution_count": 113,
   "metadata": {},
   "outputs": [],
   "source": [
    "def distance(pointa, pointb):\n",
    "    return math.sqrt((pointa[0]-pointb[0]) ** 2 + (pointa[1]-pointb[1])**2)\n",
    "\n",
    "def calc_total_move(paths):\n",
    "    total_draw = 0\n",
    "    total_move = 0\n",
    "    \n",
    "    last_point = None\n",
    "    for path in paths:\n",
    "        if len(path) > 0:\n",
    "            if last_point:\n",
    "                total_move += distance(last_point, path[1])\n",
    "                last_point = path[1]\n",
    "            else:\n",
    "                last_point = path[1]\n",
    "            \n",
    "            for point in path[1:]:\n",
    "                #print(last_point)\n",
    "                total_draw += distance(last_point, point)\n",
    "                last_point = point\n",
    "    \n",
    "    return (total_draw, total_move)\n",
    "\n"
   ]
  },
  {
   "cell_type": "code",
   "execution_count": 114,
   "metadata": {},
   "outputs": [],
   "source": [
    "draw, move = calc_total_move(test_one)\n"
   ]
  },
  {
   "cell_type": "code",
   "execution_count": 115,
   "metadata": {},
   "outputs": [],
   "source": [
    "def optimise_route_a(paths):\n",
    "    \n",
    "    new_paths = []\n",
    "    \n",
    "    path = paths.pop()\n",
    "    new_paths.append(path)\n",
    "    \n",
    "    while len(paths) > 0:\n",
    "        shortest = None\n",
    "        shortest_val = float('inf')\n",
    "        \n",
    "        #orig_side = None # at the moment always the 'far'\n",
    "        bottom_side = None\n",
    "        \n",
    "        for p in paths:\n",
    "            #print(new_paths)\n",
    "            #print(p)\n",
    "            ndist = distance(new_paths[-1][-1], p[0])\n",
    "            if ndist < shortest_val:\n",
    "                shortest = p\n",
    "                shortest_val = ndist\n",
    "                bottom_side ='Near'\n",
    "    \n",
    "            fdist = distance(new_paths[-1][-1], p[-1])\n",
    "            if fdist < shortest_val:\n",
    "                shortest = p\n",
    "                shortest_val = fdist\n",
    "                bottom_side='Far'\n",
    "                \n",
    "        # path finder, reverser. \n",
    "        #print(shortest)\n",
    "        paths.remove(shortest)\n",
    "        if bottom_side == 'Far':\n",
    "            shortest.reverse()\n",
    "        #print(shortest)\n",
    "        new_paths.append(shortest)\n",
    "        \n",
    "    return new_paths"
   ]
  },
  {
   "cell_type": "code",
   "execution_count": 173,
   "metadata": {},
   "outputs": [
    {
     "name": "stdout",
     "output_type": "stream",
     "text": [
      "Was: 7440.18037411179 / 7234.268434220611 \n",
      "Now: 2223.620397613504 / 7234.26843422061\n",
      "Reduction: 5216.559976498286 (0.298866463688249) (0.6445140771804502 real)\n",
      "104\n",
      "104\n"
     ]
    },
    {
     "data": {
      "image/png": "[encoded data removed]",
      "text/plain": [
       "<PIL.Image.Image image mode=RGB size=280x335 at 0x7F9B880379D0>"
      ]
     },
     "execution_count": 173,
     "metadata": {},
     "output_type": "execute_result"
    }
   ],
   "source": [
    "test = svgpaths.copy()\n",
    "\n",
    "orig_draw, orig_move = calc_total_move(test)\n",
    "new_paths = optimise_route_a(test)\n",
    "new_draw, new_move = calc_total_move(new_paths)\n",
    "\n",
    "print (\"Was: %s / %s \" % (orig_move, orig_draw))\n",
    "print(\"Now: %s / %s\" % (new_move, new_draw))\n",
    "print('Reduction: %s (%s) (%s real)' % (orig_move - new_move, new_move/orig_move, (new_draw + new_move) / (orig_draw+orig_move)))\n",
    "\n",
    "print(len(svgpaths))\n",
    "print(len(new_paths))\n",
    "render(new_paths, (280,335), penup=True)\n",
    "\n"
   ]
  },
  {
   "cell_type": "code",
   "execution_count": 131,
   "metadata": {},
   "outputs": [
    {
     "data": {
      "image/png": "[encoded data removed]",
      "text/plain": [
       "<PIL.Image.Image image mode=RGB size=500x500 at 0x7F9B88E4EEB0>"
      ]
     },
     "execution_count": 131,
     "metadata": {},
     "output_type": "execute_result"
    }
   ],
   "source": [
    "test_two = []\n",
    "\n",
    "for i in range(9):\n",
    "    path = []\n",
    "    point_a = (50, 10+i*50)\n",
    "    point_b = (450, 10+ i*50)\n",
    "    \n",
    "    path.append(point_a)\n",
    "    path.append(point_b)\n",
    "    \n",
    "    test_two.append(path)\n",
    "    \n",
    "render(test_two, (500,500), penup=True)"
   ]
  },
  {
   "cell_type": "code",
   "execution_count": 174,
   "metadata": {},
   "outputs": [],
   "source": [
    "def reduce(paths, tolerance=10):\n",
    "    new_paths = []\n",
    "    for path in paths:\n",
    "        if len(path)>1:\n",
    "            n_path = [path[0]]\n",
    "            last = path[0]\n",
    "            for point in path[1:]:\n",
    "                delta = distance(last, point)\n",
    "                \n",
    "                if delta > tolerance:\n",
    "                    n_path.append(point)\n",
    "                    last = point\n",
    "                else:\n",
    "                    pass\n",
    "            \n",
    "            if len(n_path) > 1:\n",
    "                new_paths.append(n_path)\n",
    "    return new_paths\n",
    "                "
   ]
  },
  {
   "cell_type": "code",
   "execution_count": 189,
   "metadata": {},
   "outputs": [
    {
     "name": "stdout",
     "output_type": "stream",
     "text": [
      "Was: 158.3846648642279 / 1364.4118621056011 [1522.796526969829]\n",
      "Now: 136.78058966596737 / 1310.6320683749354 [1447.412658040903]\n",
      "Reduction: 21.604075198260517 (0.8635974308700897) (0.9504964270709689 real)\n",
      "3\n",
      "3\n"
     ]
    },
    {
     "data": {
      "image/png": "[encoded data removed]",
      "text/plain": [
       "<PIL.Image.Image image mode=RGB size=560x335 at 0x7F9B8510E7C0>"
      ]
     },
     "execution_count": 189,
     "metadata": {},
     "output_type": "execute_result"
    }
   ],
   "source": [
    "import json\n",
    "with open('luci.json') as fp:\n",
    "    svgpaths = json.load(fp)\n",
    "    remove_empty(svgpaths)\n",
    "      \n",
    "\n",
    "test = svgpaths.copy()\n",
    "\n",
    "orig_draw, orig_move = calc_total_move(test)\n",
    "new_paths = reduce(test, tolerance=3)\n",
    "new_paths = optimise_route_a(new_paths)\n",
    "new_draw, new_move = calc_total_move(new_paths)\n",
    "\n",
    "print(\"Was: %s / %s [%s]\" % (orig_move, orig_draw, orig_move + orig_draw))\n",
    "print(\"Now: %s / %s [%s]\" % (new_move, new_draw, new_move + new_draw))\n",
    "print('Reduction: %s (%s) (%s real)' % (orig_move - new_move, new_move/orig_move, (new_draw + new_move) / (orig_draw+orig_move)))\n",
    "\n",
    "print(len(svgpaths))\n",
    "print(len(new_paths))\n",
    "\n",
    "size = (280,335)\n",
    "\n",
    "orig = render(svgpaths, size, penup=True)\n",
    "new = render(new_paths, size, penup=True)\n",
    "\n",
    "out = Image.new(mode='RGB', size=(orig.size[0]*2, orig.size[1]))\n",
    "out.paste(orig, (0, 0))\n",
    "out.paste(new, (orig.size[0], 0))\n",
    "\n",
    "out"
   ]
  },
  {
   "cell_type": "code",
   "execution_count": 190,
   "metadata": {},
   "outputs": [
    {
     "data": {
      "text/plain": [
       "[[(50, 10), (450, 10)],\n",
       " [(50, 60), (450, 60)],\n",
       " [(50, 110), (450, 110)],\n",
       " [(50, 160), (450, 160)],\n",
       " [(50, 210), (450, 210)],\n",
       " [(50, 260), (450, 260)],\n",
       " [(50, 310), (450, 310)],\n",
       " [(50, 360), (450, 360)],\n",
       " [(50, 410), (450, 410)]]"
      ]
     },
     "execution_count": 190,
     "metadata": {},
     "output_type": "execute_result"
    }
   ],
   "source": [
    "test_two"
   ]
  },
  {
   "cell_type": "code",
   "execution_count": 119,
   "metadata": {},
   "outputs": [
    {
     "data": {
      "text/plain": [
       "[[(50, 410), (450, 410)],\n",
       " [(450, 360), (50, 360)],\n",
       " [(50, 310), (450, 310)],\n",
       " [(450, 260), (50, 260)],\n",
       " [(50, 210), (450, 210)],\n",
       " [(450, 160), (50, 160)],\n",
       " [(50, 110), (450, 110)],\n",
       " [(450, 60), (50, 60)],\n",
       " [(50, 10), (450, 10)]]"
      ]
     },
     "execution_count": 119,
     "metadata": {},
     "output_type": "execute_result"
    }
   ],
   "source": [
    "new_paths"
   ]
  },
  {
   "cell_type": "code",
   "execution_count": 201,
   "metadata": {},
   "outputs": [
    {
     "data": {
      "image/png": "[encoded data removed]",
      "text/plain": [
       "<PIL.Image.Image image mode=RGB size=280x335 at 0x7F9B6F202B20>"
      ]
     },
     "execution_count": 201,
     "metadata": {},
     "output_type": "execute_result"
    }
   ],
   "source": [
    "import json\n",
    "with open('luci.json') as fp:\n",
    "    svgpaths = json.load(fp)\n",
    "    remove_empty(svgpaths)\n",
    "#print(svgpaths)\n",
    "render(svgpaths, (280,335), penup=True)"
   ]
  },
  {
   "cell_type": "code",
   "execution_count": 104,
   "metadata": {},
   "outputs": [],
   "source": [
    "def remove_empty(paths):\n",
    "    for path in paths:\n",
    "        if len(path) == 0:\n",
    "            paths.remove(path)"
   ]
  },
  {
   "cell_type": "code",
   "execution_count": 159,
   "metadata": {},
   "outputs": [],
   "source": [
    "with open(\"godzilla2.json\", \"w\") as fp:\n",
    "    json.dump(new_paths,fp)"
   ]
  },
  {
   "cell_type": "code",
   "execution_count": 193,
   "metadata": {},
   "outputs": [],
   "source": [
    "from simplification.cutil import (\n",
    "    simplify_coords,\n",
    "    simplify_coords_idx,\n",
    "    simplify_coords_vw,\n",
    "    simplify_coords_vw_idx,\n",
    "    simplify_coords_vwp,\n",
    ")"
   ]
  },
  {
   "cell_type": "code",
   "execution_count": 202,
   "metadata": {},
   "outputs": [
    {
     "data": {
      "image/png": "[encoded data removed]",
      "text/plain": [
       "<PIL.Image.Image image mode=RGB size=500x500 at 0x7F9B84DA2190>"
      ]
     },
     "execution_count": 202,
     "metadata": {},
     "output_type": "execute_result"
    }
   ],
   "source": [
    "new_paths = []\n",
    "for path in svgpaths:\n",
    "    path = simplify_coords(path, 0.1)\n",
    "    new_paths.append(path)\n",
    "render(new_paths, (500,500))"
   ]
  },
  {
   "cell_type": "code",
   "execution_count": 205,
   "metadata": {},
   "outputs": [
    {
     "data": {
      "image/png": "[encoded data removed]",
      "text/plain": [
       "<PIL.Image.Image image mode=RGB size=500x500 at 0x7F9B6F2150A0>"
      ]
     },
     "execution_count": 205,
     "metadata": {},
     "output_type": "execute_result"
    }
   ],
   "source": [
    "new_paths = []\n",
    "for path in svgpaths:\n",
    "    path = simplify_coords_vw(path, 1)\n",
    "    new_paths.append(path)\n",
    "render(new_paths, (500,500))"
   ]
  },
  {
   "cell_type": "code",
   "execution_count": null,
   "metadata": {},
   "outputs": [],
   "source": []
  }
 ],
 "metadata": {
  "kernelspec": {
   "display_name": "p38venv",
   "language": "python",
   "name": "p38venv"
  },
  "language_info": {
   "codemirror_mode": {
    "name": "ipython",
    "version": 3
   },
   "file_extension": ".py",
   "mimetype": "text/x-python",
   "name": "python",
   "nbconvert_exporter": "python",
   "pygments_lexer": "ipython3",
   "version": "3.8.4"
  }
 },
 "nbformat": 4,
 "nbformat_minor": 4
}
